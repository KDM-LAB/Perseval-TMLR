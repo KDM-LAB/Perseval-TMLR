{
 "cells": [
  {
   "cell_type": "code",
   "execution_count": 1,
   "id": "30c5b0a9-1936-453c-b0db-2945bf7a0e0b",
   "metadata": {},
   "outputs": [],
   "source": [
    "import sys\n",
    "sys.path.insert(0, \"..\")\n",
    "from evaluation_script import generate_perseval_scores\n"
   ]
  },
  {
   "cell_type": "code",
   "execution_count": 2,
   "id": "0dd8f43c-31f7-45ca-ab12-e731c4a08927",
   "metadata": {},
   "outputs": [
    {
     "data": {
      "application/vnd.jupyter.widget-view+json": {
       "model_id": "4ba4dab8820c4685885a9d074fa044fb",
       "version_major": 2,
       "version_minor": 0
      },
      "text/plain": [
       "  0%|          | 0/10 [00:00<?, ?it/s]"
      ]
     },
     "metadata": {},
     "output_type": "display_data"
    },
    {
     "name": "stdout",
     "output_type": "stream",
     "text": [
      "directory already exists: /home/ankush/workplace/kdm_lab/repos/perseval_evaluation/scores/calculate_bert_score/NAML_1\n"
     ]
    },
    {
     "data": {
      "application/vnd.jupyter.widget-view+json": {
       "model_id": "60db2fda4b0040969e16ba91e1f0af5e",
       "version_major": 2,
       "version_minor": 0
      },
      "text/plain": [
       "Populating Distances:   0%|          | 0/3840 [00:00<?, ?it/s]"
      ]
     },
     "metadata": {},
     "output_type": "display_data"
    },
    {
     "name": "stdout",
     "output_type": "stream",
     "text": [
      "calculating for NAML_1 with perseval params PersevalParams(ADP_alpha=4.0, ADP_beta=1.0, ACP_alpha=4.0, ACP_beta=1.0, EDP_alpha=3.0, EDP_beta=1.7, epsilon=1e-07)\n",
      "sample percentage:100\n",
      "perseval_score@100%: 1.112767510448185e-08, accuracy_score: 0.7985613783783655\n",
      "model_perseval_tuple: ['NAML_1', 1.112767510448185e-08, 0.0, 0.0]\n",
      "model_accuracy_tuple: ['NAML_1', 0.7985613783783655, 0.0, 0.0]\n",
      "directory already exists: /home/ankush/workplace/kdm_lab/repos/perseval_evaluation/scores/calculate_bert_score/NRMS_1\n"
     ]
    },
    {
     "data": {
      "application/vnd.jupyter.widget-view+json": {
       "model_id": "23c9fb0dc7714c319a451af186dda456",
       "version_major": 2,
       "version_minor": 0
      },
      "text/plain": [
       "Populating Distances:   0%|          | 0/3840 [00:00<?, ?it/s]"
      ]
     },
     "metadata": {},
     "output_type": "display_data"
    },
    {
     "name": "stdout",
     "output_type": "stream",
     "text": [
      "calculating for NRMS_1 with perseval params PersevalParams(ADP_alpha=4.0, ADP_beta=1.0, ACP_alpha=4.0, ACP_beta=1.0, EDP_alpha=3.0, EDP_beta=1.7, epsilon=1e-07)\n",
      "sample percentage:100\n",
      "perseval_score@100%: 0.0, accuracy_score: 0.7999142892963002\n",
      "model_perseval_tuple: ['NRMS_1', 0.0, 0.0, 0.0]\n",
      "model_accuracy_tuple: ['NRMS_1', 0.7999142892963002, 0.0, 0.0]\n",
      "directory already exists: /home/ankush/workplace/kdm_lab/repos/perseval_evaluation/scores/calculate_bert_score/NRMS_2\n"
     ]
    },
    {
     "data": {
      "application/vnd.jupyter.widget-view+json": {
       "model_id": "b2258c8546974198bbb4fce492ad412f",
       "version_major": 2,
       "version_minor": 0
      },
      "text/plain": [
       "Populating Distances:   0%|          | 0/3840 [00:00<?, ?it/s]"
      ]
     },
     "metadata": {},
     "output_type": "display_data"
    },
    {
     "name": "stdout",
     "output_type": "stream",
     "text": [
      "calculating for NRMS_2 with perseval params PersevalParams(ADP_alpha=4.0, ADP_beta=1.0, ACP_alpha=4.0, ACP_beta=1.0, EDP_alpha=3.0, EDP_beta=1.7, epsilon=1e-07)\n",
      "sample percentage:100\n",
      "perseval_score@100%: 0.0, accuracy_score: 0.8010937194918677\n",
      "model_perseval_tuple: ['NRMS_2', 0.0, 0.0, 0.0]\n",
      "model_accuracy_tuple: ['NRMS_2', 0.8010937194918677, 0.0, 0.0]\n",
      "directory already exists: /home/ankush/workplace/kdm_lab/repos/perseval_evaluation/scores/calculate_bert_score/EBNR_1\n"
     ]
    },
    {
     "data": {
      "application/vnd.jupyter.widget-view+json": {
       "model_id": "29b6539f21a34197a67ee91085d0b245",
       "version_major": 2,
       "version_minor": 0
      },
      "text/plain": [
       "Populating Distances:   0%|          | 0/3840 [00:00<?, ?it/s]"
      ]
     },
     "metadata": {},
     "output_type": "display_data"
    },
    {
     "name": "stdout",
     "output_type": "stream",
     "text": [
      "calculating for EBNR_1 with perseval params PersevalParams(ADP_alpha=4.0, ADP_beta=1.0, ACP_alpha=4.0, ACP_beta=1.0, EDP_alpha=3.0, EDP_beta=1.7, epsilon=1e-07)\n",
      "sample percentage:100\n",
      "perseval_score@100%: 0.0, accuracy_score: 0.8005875805649323\n",
      "model_perseval_tuple: ['EBNR_1', 0.0, 0.0, 0.0]\n",
      "model_accuracy_tuple: ['EBNR_1', 0.8005875805649323, 0.0, 0.0]\n",
      "directory already exists: /home/ankush/workplace/kdm_lab/repos/perseval_evaluation/scores/calculate_bert_score/EBNR_2\n"
     ]
    },
    {
     "data": {
      "application/vnd.jupyter.widget-view+json": {
       "model_id": "4ef3546c52484214806820be54dd64c2",
       "version_major": 2,
       "version_minor": 0
      },
      "text/plain": [
       "Populating Distances:   0%|          | 0/3840 [00:00<?, ?it/s]"
      ]
     },
     "metadata": {},
     "output_type": "display_data"
    },
    {
     "name": "stdout",
     "output_type": "stream",
     "text": [
      "calculating for EBNR_2 with perseval params PersevalParams(ADP_alpha=4.0, ADP_beta=1.0, ACP_alpha=4.0, ACP_beta=1.0, EDP_alpha=3.0, EDP_beta=1.7, epsilon=1e-07)\n",
      "sample percentage:100\n",
      "perseval_score@100%: 0.0, accuracy_score: 0.8002636665118938\n",
      "model_perseval_tuple: ['EBNR_2', 0.0, 0.0, 0.0]\n",
      "model_accuracy_tuple: ['EBNR_2', 0.8002636665118938, 0.0, 0.0]\n",
      "directory already exists: /home/ankush/workplace/kdm_lab/repos/perseval_evaluation/scores/calculate_bert_score/big_bird\n"
     ]
    },
    {
     "data": {
      "application/vnd.jupyter.widget-view+json": {
       "model_id": "848dc862e9a944b2a31a2f7e2fb2c4b4",
       "version_major": 2,
       "version_minor": 0
      },
      "text/plain": [
       "Populating Distances:   0%|          | 0/3840 [00:00<?, ?it/s]"
      ]
     },
     "metadata": {},
     "output_type": "display_data"
    },
    {
     "name": "stdout",
     "output_type": "stream",
     "text": [
      "calculating for big_bird with perseval params PersevalParams(ADP_alpha=4.0, ADP_beta=1.0, ACP_alpha=4.0, ACP_beta=1.0, EDP_alpha=3.0, EDP_beta=1.7, epsilon=1e-07)\n",
      "sample percentage:100\n",
      "perseval_score@100%: 4.1395451478929736e-08, accuracy_score: 0.7972502480424334\n",
      "model_perseval_tuple: ['big_bird', 4.1395451478929736e-08, 0.0, 0.0]\n",
      "model_accuracy_tuple: ['big_bird', 0.7972502480424334, 0.0, 0.0]\n",
      "directory already exists: /home/ankush/workplace/kdm_lab/repos/perseval_evaluation/scores/calculate_bert_score/brio\n"
     ]
    },
    {
     "data": {
      "application/vnd.jupyter.widget-view+json": {
       "model_id": "51796e90e5a84a5d92d591ff0a0dc0ac",
       "version_major": 2,
       "version_minor": 0
      },
      "text/plain": [
       "Populating Distances:   0%|          | 0/3840 [00:00<?, ?it/s]"
      ]
     },
     "metadata": {},
     "output_type": "display_data"
    },
    {
     "name": "stdout",
     "output_type": "stream",
     "text": [
      "calculating for brio with perseval params PersevalParams(ADP_alpha=4.0, ADP_beta=1.0, ACP_alpha=4.0, ACP_beta=1.0, EDP_alpha=3.0, EDP_beta=1.7, epsilon=1e-07)\n",
      "sample percentage:100\n",
      "perseval_score@100%: 0.0, accuracy_score: 0.8131966272494296\n",
      "model_perseval_tuple: ['brio', 0.0, 0.0, 0.0]\n",
      "model_accuracy_tuple: ['brio', 0.8131966272494296, 0.0, 0.0]\n",
      "directory already exists: /home/ankush/workplace/kdm_lab/repos/perseval_evaluation/scores/calculate_bert_score/prophetnet\n"
     ]
    },
    {
     "data": {
      "application/vnd.jupyter.widget-view+json": {
       "model_id": "5ee676a48b9f41559b807a6b2535f3c4",
       "version_major": 2,
       "version_minor": 0
      },
      "text/plain": [
       "Populating Distances:   0%|          | 0/3840 [00:00<?, ?it/s]"
      ]
     },
     "metadata": {},
     "output_type": "display_data"
    },
    {
     "name": "stdout",
     "output_type": "stream",
     "text": [
      "calculating for prophetnet with perseval params PersevalParams(ADP_alpha=4.0, ADP_beta=1.0, ACP_alpha=4.0, ACP_beta=1.0, EDP_alpha=3.0, EDP_beta=1.7, epsilon=1e-07)\n",
      "sample percentage:100\n",
      "perseval_score@100%: 4.998158047288218e-18, accuracy_score: 0.799723260167701\n",
      "model_perseval_tuple: ['prophetnet', 4.998158047288218e-18, 0.0, 0.0]\n",
      "model_accuracy_tuple: ['prophetnet', 0.799723260167701, 0.0, 0.0]\n",
      "directory already exists: /home/ankush/workplace/kdm_lab/repos/perseval_evaluation/scores/calculate_bert_score/cls\n"
     ]
    },
    {
     "data": {
      "application/vnd.jupyter.widget-view+json": {
       "model_id": "66ead98c0e414f39aa4eecb22cbe3d61",
       "version_major": 2,
       "version_minor": 0
      },
      "text/plain": [
       "Populating Distances:   0%|          | 0/3840 [00:00<?, ?it/s]"
      ]
     },
     "metadata": {},
     "output_type": "display_data"
    },
    {
     "name": "stdout",
     "output_type": "stream",
     "text": [
      "calculating for cls with perseval params PersevalParams(ADP_alpha=4.0, ADP_beta=1.0, ACP_alpha=4.0, ACP_beta=1.0, EDP_alpha=3.0, EDP_beta=1.7, epsilon=1e-07)\n",
      "sample percentage:100\n",
      "perseval_score@100%: 0.0, accuracy_score: 0.8204367496880438\n",
      "model_perseval_tuple: ['cls', 0.0, 0.0, 0.0]\n",
      "model_accuracy_tuple: ['cls', 0.8204367496880438, 0.0, 0.0]\n",
      "directory already exists: /home/ankush/workplace/kdm_lab/repos/perseval_evaluation/scores/calculate_bert_score/t5_base\n"
     ]
    },
    {
     "data": {
      "application/vnd.jupyter.widget-view+json": {
       "model_id": "7f38e52faba54dc0b33f2fde42105d4e",
       "version_major": 2,
       "version_minor": 0
      },
      "text/plain": [
       "Populating Distances:   0%|          | 0/3840 [00:00<?, ?it/s]"
      ]
     },
     "metadata": {},
     "output_type": "display_data"
    },
    {
     "name": "stdout",
     "output_type": "stream",
     "text": [
      "calculating for t5_base with perseval params PersevalParams(ADP_alpha=4.0, ADP_beta=1.0, ACP_alpha=4.0, ACP_beta=1.0, EDP_alpha=3.0, EDP_beta=1.7, epsilon=1e-07)\n",
      "sample percentage:100\n",
      "perseval_score@100%: 0.0, accuracy_score: 0.7972838155271139\n",
      "model_perseval_tuple: ['t5_base', 0.0, 0.0, 0.0]\n",
      "model_accuracy_tuple: ['t5_base', 0.7972838155271139, 0.0, 0.0]\n"
     ]
    }
   ],
   "source": [
    "accuracy_df, perseval_df = generate_perseval_scores(distance_measure=\"bert_score\", sampling_freq= 10, max_workers= 1,\n",
    "                             simplified_flag= False, stability= False, EDP_beta= 1.7,\n",
    "                             version=\"v3_1.7\")\n",
    "# print(f\"accuracy_df:{accuracy_df}\")\n",
    "# print(f\"perseval_df: {perseval_df}\")\n"
   ]
  },
  {
   "cell_type": "code",
   "execution_count": 3,
   "id": "5ae9c5e4-89ea-44e5-9c0a-bc845e67cf9e",
   "metadata": {},
   "outputs": [
    {
     "data": {
      "text/html": [
       "<div>\n",
       "<style scoped>\n",
       "    .dataframe tbody tr th:only-of-type {\n",
       "        vertical-align: middle;\n",
       "    }\n",
       "\n",
       "    .dataframe tbody tr th {\n",
       "        vertical-align: top;\n",
       "    }\n",
       "\n",
       "    .dataframe thead th {\n",
       "        text-align: right;\n",
       "    }\n",
       "</style>\n",
       "<table border=\"1\" class=\"dataframe\">\n",
       "  <thead>\n",
       "    <tr style=\"text-align: right;\">\n",
       "      <th></th>\n",
       "      <th>models</th>\n",
       "      <th>100</th>\n",
       "      <th>bias</th>\n",
       "      <th>variance</th>\n",
       "    </tr>\n",
       "  </thead>\n",
       "  <tbody>\n",
       "    <tr>\n",
       "      <th>0</th>\n",
       "      <td>NAML_1</td>\n",
       "      <td>0.798561</td>\n",
       "      <td>0.0</td>\n",
       "      <td>0.0</td>\n",
       "    </tr>\n",
       "    <tr>\n",
       "      <th>1</th>\n",
       "      <td>NRMS_1</td>\n",
       "      <td>0.799914</td>\n",
       "      <td>0.0</td>\n",
       "      <td>0.0</td>\n",
       "    </tr>\n",
       "    <tr>\n",
       "      <th>2</th>\n",
       "      <td>NRMS_2</td>\n",
       "      <td>0.801094</td>\n",
       "      <td>0.0</td>\n",
       "      <td>0.0</td>\n",
       "    </tr>\n",
       "    <tr>\n",
       "      <th>3</th>\n",
       "      <td>EBNR_1</td>\n",
       "      <td>0.800588</td>\n",
       "      <td>0.0</td>\n",
       "      <td>0.0</td>\n",
       "    </tr>\n",
       "    <tr>\n",
       "      <th>4</th>\n",
       "      <td>EBNR_2</td>\n",
       "      <td>0.800264</td>\n",
       "      <td>0.0</td>\n",
       "      <td>0.0</td>\n",
       "    </tr>\n",
       "    <tr>\n",
       "      <th>5</th>\n",
       "      <td>big_bird</td>\n",
       "      <td>0.797250</td>\n",
       "      <td>0.0</td>\n",
       "      <td>0.0</td>\n",
       "    </tr>\n",
       "    <tr>\n",
       "      <th>6</th>\n",
       "      <td>brio</td>\n",
       "      <td>0.813197</td>\n",
       "      <td>0.0</td>\n",
       "      <td>0.0</td>\n",
       "    </tr>\n",
       "    <tr>\n",
       "      <th>7</th>\n",
       "      <td>prophetnet</td>\n",
       "      <td>0.799723</td>\n",
       "      <td>0.0</td>\n",
       "      <td>0.0</td>\n",
       "    </tr>\n",
       "    <tr>\n",
       "      <th>8</th>\n",
       "      <td>cls</td>\n",
       "      <td>0.820437</td>\n",
       "      <td>0.0</td>\n",
       "      <td>0.0</td>\n",
       "    </tr>\n",
       "    <tr>\n",
       "      <th>9</th>\n",
       "      <td>t5_base</td>\n",
       "      <td>0.797284</td>\n",
       "      <td>0.0</td>\n",
       "      <td>0.0</td>\n",
       "    </tr>\n",
       "  </tbody>\n",
       "</table>\n",
       "</div>"
      ],
      "text/plain": [
       "       models       100  bias  variance\n",
       "0      NAML_1  0.798561   0.0       0.0\n",
       "1      NRMS_1  0.799914   0.0       0.0\n",
       "2      NRMS_2  0.801094   0.0       0.0\n",
       "3      EBNR_1  0.800588   0.0       0.0\n",
       "4      EBNR_2  0.800264   0.0       0.0\n",
       "5    big_bird  0.797250   0.0       0.0\n",
       "6        brio  0.813197   0.0       0.0\n",
       "7  prophetnet  0.799723   0.0       0.0\n",
       "8         cls  0.820437   0.0       0.0\n",
       "9     t5_base  0.797284   0.0       0.0"
      ]
     },
     "execution_count": 3,
     "metadata": {},
     "output_type": "execute_result"
    }
   ],
   "source": [
    "accuracy_df"
   ]
  },
  {
   "cell_type": "code",
   "execution_count": 4,
   "id": "a3211faa-80ab-445c-a0cc-f0ac646d252a",
   "metadata": {},
   "outputs": [
    {
     "data": {
      "text/html": [
       "<div>\n",
       "<style scoped>\n",
       "    .dataframe tbody tr th:only-of-type {\n",
       "        vertical-align: middle;\n",
       "    }\n",
       "\n",
       "    .dataframe tbody tr th {\n",
       "        vertical-align: top;\n",
       "    }\n",
       "\n",
       "    .dataframe thead th {\n",
       "        text-align: right;\n",
       "    }\n",
       "</style>\n",
       "<table border=\"1\" class=\"dataframe\">\n",
       "  <thead>\n",
       "    <tr style=\"text-align: right;\">\n",
       "      <th></th>\n",
       "      <th>models</th>\n",
       "      <th>100</th>\n",
       "      <th>bias</th>\n",
       "      <th>variance</th>\n",
       "    </tr>\n",
       "  </thead>\n",
       "  <tbody>\n",
       "    <tr>\n",
       "      <th>0</th>\n",
       "      <td>NAML_1</td>\n",
       "      <td>1.112768e-08</td>\n",
       "      <td>0.0</td>\n",
       "      <td>0.0</td>\n",
       "    </tr>\n",
       "    <tr>\n",
       "      <th>1</th>\n",
       "      <td>NRMS_1</td>\n",
       "      <td>0.000000e+00</td>\n",
       "      <td>0.0</td>\n",
       "      <td>0.0</td>\n",
       "    </tr>\n",
       "    <tr>\n",
       "      <th>2</th>\n",
       "      <td>NRMS_2</td>\n",
       "      <td>0.000000e+00</td>\n",
       "      <td>0.0</td>\n",
       "      <td>0.0</td>\n",
       "    </tr>\n",
       "    <tr>\n",
       "      <th>3</th>\n",
       "      <td>EBNR_1</td>\n",
       "      <td>0.000000e+00</td>\n",
       "      <td>0.0</td>\n",
       "      <td>0.0</td>\n",
       "    </tr>\n",
       "    <tr>\n",
       "      <th>4</th>\n",
       "      <td>EBNR_2</td>\n",
       "      <td>0.000000e+00</td>\n",
       "      <td>0.0</td>\n",
       "      <td>0.0</td>\n",
       "    </tr>\n",
       "    <tr>\n",
       "      <th>5</th>\n",
       "      <td>big_bird</td>\n",
       "      <td>4.139545e-08</td>\n",
       "      <td>0.0</td>\n",
       "      <td>0.0</td>\n",
       "    </tr>\n",
       "    <tr>\n",
       "      <th>6</th>\n",
       "      <td>brio</td>\n",
       "      <td>0.000000e+00</td>\n",
       "      <td>0.0</td>\n",
       "      <td>0.0</td>\n",
       "    </tr>\n",
       "    <tr>\n",
       "      <th>7</th>\n",
       "      <td>prophetnet</td>\n",
       "      <td>4.998158e-18</td>\n",
       "      <td>0.0</td>\n",
       "      <td>0.0</td>\n",
       "    </tr>\n",
       "    <tr>\n",
       "      <th>8</th>\n",
       "      <td>cls</td>\n",
       "      <td>0.000000e+00</td>\n",
       "      <td>0.0</td>\n",
       "      <td>0.0</td>\n",
       "    </tr>\n",
       "    <tr>\n",
       "      <th>9</th>\n",
       "      <td>t5_base</td>\n",
       "      <td>0.000000e+00</td>\n",
       "      <td>0.0</td>\n",
       "      <td>0.0</td>\n",
       "    </tr>\n",
       "  </tbody>\n",
       "</table>\n",
       "</div>"
      ],
      "text/plain": [
       "       models           100  bias  variance\n",
       "0      NAML_1  1.112768e-08   0.0       0.0\n",
       "1      NRMS_1  0.000000e+00   0.0       0.0\n",
       "2      NRMS_2  0.000000e+00   0.0       0.0\n",
       "3      EBNR_1  0.000000e+00   0.0       0.0\n",
       "4      EBNR_2  0.000000e+00   0.0       0.0\n",
       "5    big_bird  4.139545e-08   0.0       0.0\n",
       "6        brio  0.000000e+00   0.0       0.0\n",
       "7  prophetnet  4.998158e-18   0.0       0.0\n",
       "8         cls  0.000000e+00   0.0       0.0\n",
       "9     t5_base  0.000000e+00   0.0       0.0"
      ]
     },
     "execution_count": 4,
     "metadata": {},
     "output_type": "execute_result"
    }
   ],
   "source": [
    "perseval_df"
   ]
  }
 ],
 "metadata": {
  "kernelspec": {
   "display_name": "Python 3 (ipykernel)",
   "language": "python",
   "name": "python3"
  },
  "language_info": {
   "codemirror_mode": {
    "name": "ipython",
    "version": 3
   },
   "file_extension": ".py",
   "mimetype": "text/x-python",
   "name": "python",
   "nbconvert_exporter": "python",
   "pygments_lexer": "ipython3",
   "version": "3.10.12"
  }
 },
 "nbformat": 4,
 "nbformat_minor": 5
}
