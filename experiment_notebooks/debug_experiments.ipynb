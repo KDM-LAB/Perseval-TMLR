{
 "cells": [
  {
   "cell_type": "code",
   "execution_count": 1,
   "id": "30c5b0a9-1936-453c-b0db-2945bf7a0e0b",
   "metadata": {},
   "outputs": [
    {
     "data": {
      "application/vnd.jupyter.widget-view+json": {
       "model_id": "9b577644e7ba4a828734edc35ff64e35",
       "version_major": 2,
       "version_minor": 0
      },
      "text/plain": [
       "  0%|          | 0/10 [00:00<?, ?it/s]"
      ]
     },
     "metadata": {},
     "output_type": "display_data"
    },
    {
     "name": "stdout",
     "output_type": "stream",
     "text": [
      "directory already exists: scores/calculate_bleu/NAML_1\n"
     ]
    },
    {
     "data": {
      "application/vnd.jupyter.widget-view+json": {
       "model_id": "3b0db214f85a4f0ab6c69fe331347d16",
       "version_major": 2,
       "version_minor": 0
      },
      "text/plain": [
       "Populating Distances:   0%|          | 0/3840 [00:00<?, ?it/s]"
      ]
     },
     "metadata": {},
     "output_type": "display_data"
    },
    {
     "name": "stdout",
     "output_type": "stream",
     "text": [
      "calculating for NAML_1 with perseval params PersevalParams(ADP_alpha=4.0, ADP_beta=1.0, ACP_alpha=4.0, ACP_beta=1.0, EDP_alpha=3.0, EDP_beta=1.0, epsilon=1e-07)\n",
      "sample percentage:100\n",
      "perseval_score@100%: 0.20825622245104025, accuracy_score: 0.016160301785277574\n",
      "model_perseval_tuple: ['NAML_1', 0.20825622245104025, 0.0, 0.0]\n",
      "model_accuracy_tuple: ['NAML_1', 0.016160301785277574, 0.0, 0.0]\n",
      "directory already exists: scores/calculate_bleu/NRMS_1\n"
     ]
    },
    {
     "data": {
      "application/vnd.jupyter.widget-view+json": {
       "model_id": "422b9c2f8257408d9abd0c60826da6d8",
       "version_major": 2,
       "version_minor": 0
      },
      "text/plain": [
       "Populating Distances:   0%|          | 0/3840 [00:00<?, ?it/s]"
      ]
     },
     "metadata": {},
     "output_type": "display_data"
    },
    {
     "name": "stdout",
     "output_type": "stream",
     "text": [
      "calculating for NRMS_1 with perseval params PersevalParams(ADP_alpha=4.0, ADP_beta=1.0, ACP_alpha=4.0, ACP_beta=1.0, EDP_alpha=3.0, EDP_beta=1.0, epsilon=1e-07)\n",
      "sample percentage:100\n",
      "perseval_score@100%: 0.17258789618083006, accuracy_score: 0.01625260895084373\n",
      "model_perseval_tuple: ['NRMS_1', 0.17258789618083006, 0.0, 0.0]\n",
      "model_accuracy_tuple: ['NRMS_1', 0.01625260895084373, 0.0, 0.0]\n",
      "directory already exists: scores/calculate_bleu/NRMS_2\n"
     ]
    },
    {
     "data": {
      "application/vnd.jupyter.widget-view+json": {
       "model_id": "97fa996111624d6296b31c8d5174854a",
       "version_major": 2,
       "version_minor": 0
      },
      "text/plain": [
       "Populating Distances:   0%|          | 0/3840 [00:00<?, ?it/s]"
      ]
     },
     "metadata": {},
     "output_type": "display_data"
    },
    {
     "name": "stdout",
     "output_type": "stream",
     "text": [
      "calculating for NRMS_2 with perseval params PersevalParams(ADP_alpha=4.0, ADP_beta=1.0, ACP_alpha=4.0, ACP_beta=1.0, EDP_alpha=3.0, EDP_beta=1.0, epsilon=1e-07)\n",
      "sample percentage:100\n",
      "perseval_score@100%: 0.04868286283572605, accuracy_score: 0.016605453656150643\n",
      "model_perseval_tuple: ['NRMS_2', 0.04868286283572605, 0.0, 0.0]\n",
      "model_accuracy_tuple: ['NRMS_2', 0.016605453656150643, 0.0, 0.0]\n",
      "directory already exists: scores/calculate_bleu/EBNR_1\n"
     ]
    },
    {
     "data": {
      "application/vnd.jupyter.widget-view+json": {
       "model_id": "4bab588e6f674149895e73372a202e7b",
       "version_major": 2,
       "version_minor": 0
      },
      "text/plain": [
       "Populating Distances:   0%|          | 0/3840 [00:00<?, ?it/s]"
      ]
     },
     "metadata": {},
     "output_type": "display_data"
    },
    {
     "name": "stdout",
     "output_type": "stream",
     "text": [
      "calculating for EBNR_1 with perseval params PersevalParams(ADP_alpha=4.0, ADP_beta=1.0, ACP_alpha=4.0, ACP_beta=1.0, EDP_alpha=3.0, EDP_beta=1.0, epsilon=1e-07)\n",
      "sample percentage:100\n",
      "perseval_score@100%: 0.11507298816176624, accuracy_score: 0.015699669356810955\n",
      "model_perseval_tuple: ['EBNR_1', 0.11507298816176624, 0.0, 0.0]\n",
      "model_accuracy_tuple: ['EBNR_1', 0.015699669356810955, 0.0, 0.0]\n",
      "directory already exists: scores/calculate_bleu/EBNR_2\n"
     ]
    },
    {
     "data": {
      "application/vnd.jupyter.widget-view+json": {
       "model_id": "415ee5dd51aa435b8c949f6dcc23463e",
       "version_major": 2,
       "version_minor": 0
      },
      "text/plain": [
       "Populating Distances:   0%|          | 0/3840 [00:00<?, ?it/s]"
      ]
     },
     "metadata": {},
     "output_type": "display_data"
    },
    {
     "name": "stdout",
     "output_type": "stream",
     "text": [
      "calculating for EBNR_2 with perseval params PersevalParams(ADP_alpha=4.0, ADP_beta=1.0, ACP_alpha=4.0, ACP_beta=1.0, EDP_alpha=3.0, EDP_beta=1.0, epsilon=1e-07)\n",
      "sample percentage:100\n",
      "perseval_score@100%: 0.0551094001911044, accuracy_score: 0.016583587185130838\n",
      "model_perseval_tuple: ['EBNR_2', 0.0551094001911044, 0.0, 0.0]\n",
      "model_accuracy_tuple: ['EBNR_2', 0.016583587185130838, 0.0, 0.0]\n",
      "directory already exists: scores/calculate_bleu/big_bird\n"
     ]
    },
    {
     "data": {
      "application/vnd.jupyter.widget-view+json": {
       "model_id": "7249fd631c3d4011bfb36606ff60ef2e",
       "version_major": 2,
       "version_minor": 0
      },
      "text/plain": [
       "Populating Distances:   0%|          | 0/3840 [00:00<?, ?it/s]"
      ]
     },
     "metadata": {},
     "output_type": "display_data"
    },
    {
     "ename": "KeyboardInterrupt",
     "evalue": "",
     "output_type": "error",
     "traceback": [
      "\u001b[0;31m---------------------------------------------------------------------------\u001b[0m",
      "\u001b[0;31mKeyboardInterrupt\u001b[0m                         Traceback (most recent call last)",
      "Cell \u001b[0;32mIn[1], line 3\u001b[0m\n\u001b[1;32m      1\u001b[0m \u001b[38;5;28;01mfrom\u001b[39;00m \u001b[38;5;21;01mevaluation_script\u001b[39;00m \u001b[38;5;28;01mimport\u001b[39;00m generate_perseval_scores\n\u001b[0;32m----> 3\u001b[0m scores \u001b[38;5;241m=\u001b[39m \u001b[43mgenerate_perseval_scores\u001b[49m\u001b[43m(\u001b[49m\u001b[43mdistance_measure\u001b[49m\u001b[38;5;241;43m=\u001b[39;49m\u001b[38;5;124;43m\"\u001b[39;49m\u001b[38;5;124;43mbleu\u001b[39;49m\u001b[38;5;124;43m\"\u001b[39;49m\u001b[43m,\u001b[49m\u001b[43m \u001b[49m\u001b[43msampling_freq\u001b[49m\u001b[38;5;241;43m=\u001b[39;49m\u001b[43m \u001b[49m\u001b[38;5;241;43m10\u001b[39;49m\u001b[43m,\u001b[49m\u001b[43m \u001b[49m\u001b[43mmax_workers\u001b[49m\u001b[43m \u001b[49m\u001b[38;5;241;43m=\u001b[39;49m\u001b[43m \u001b[49m\u001b[38;5;241;43m1\u001b[39;49m\u001b[43m,\u001b[49m\u001b[43m \u001b[49m\u001b[43msimplified_flag\u001b[49m\u001b[38;5;241;43m=\u001b[39;49m\u001b[43m \u001b[49m\u001b[38;5;28;43;01mFalse\u001b[39;49;00m\u001b[43m,\u001b[49m\n\u001b[1;32m      4\u001b[0m \u001b[43m                    \u001b[49m\u001b[43mstability\u001b[49m\u001b[38;5;241;43m=\u001b[39;49m\u001b[43m \u001b[49m\u001b[38;5;28;43;01mFalse\u001b[39;49;00m\u001b[43m,\u001b[49m\u001b[43m \u001b[49m\u001b[43mversion\u001b[49m\u001b[38;5;241;43m=\u001b[39;49m\u001b[38;5;124;43m\"\u001b[39;49m\u001b[38;5;124;43mtestv2\u001b[39;49m\u001b[38;5;124;43m\"\u001b[39;49m\u001b[43m)\u001b[49m\n\u001b[1;32m      5\u001b[0m \u001b[38;5;66;03m# stores scores in perseval_scores_testv2.csv, perseval_accuracy_scores_testv2.csv\u001b[39;00m\n",
      "File \u001b[0;32m~/workplace/kdm_lab/repos/perseval_evaluation/evaluation_script.py:336\u001b[0m, in \u001b[0;36mgenerate_perseval_scores\u001b[0;34m(distance_measure, sampling_freq, max_workers, simplified_flag, stability, EDP_beta, version)\u001b[0m\n\u001b[1;32m    332\u001b[0m model_perseval_tuple, model_accuracy_tuple \u001b[38;5;241m=\u001b[39m [model_name], [model_name]\n\u001b[1;32m    333\u001b[0m eg \u001b[38;5;241m=\u001b[39m Egises(model_name\u001b[38;5;241m=\u001b[39mmodel_name, measure\u001b[38;5;241m=\u001b[39mmeasure,\n\u001b[1;32m    334\u001b[0m             documents\u001b[38;5;241m=\u001b[39mutils\u001b[38;5;241m.\u001b[39mget_model_documents(model_name, CONSOLIDATED_FILEPATH),\n\u001b[1;32m    335\u001b[0m             score_directory\u001b[38;5;241m=\u001b[39mdistance_directory, max_workers\u001b[38;5;241m=\u001b[39mmax_workers, version\u001b[38;5;241m=\u001b[39mversion)\n\u001b[0;32m--> 336\u001b[0m \u001b[43meg\u001b[49m\u001b[38;5;241;43m.\u001b[39;49m\u001b[43mpopulate_distances\u001b[49m\u001b[43m(\u001b[49m\u001b[43msimplified_flag\u001b[49m\u001b[38;5;241;43m=\u001b[39;49m\u001b[43msimplified_flag\u001b[49m\u001b[43m)\u001b[49m\n\u001b[1;32m    338\u001b[0m perseval_params \u001b[38;5;241m=\u001b[39m PersevalParams(EDP_beta\u001b[38;5;241m=\u001b[39mEDP_beta)\n\u001b[1;32m    339\u001b[0m \u001b[38;5;28mprint\u001b[39m(\u001b[38;5;124mf\u001b[39m\u001b[38;5;124m\"\u001b[39m\u001b[38;5;124mcalculating for \u001b[39m\u001b[38;5;132;01m{\u001b[39;00mmodel_name\u001b[38;5;132;01m}\u001b[39;00m\u001b[38;5;124m with perseval params \u001b[39m\u001b[38;5;132;01m{\u001b[39;00mperseval_params\u001b[38;5;132;01m}\u001b[39;00m\u001b[38;5;124m\"\u001b[39m)\n",
      "File \u001b[0;32m~/workplace/kdm_lab/repos/egises/egises/models.py:189\u001b[0m, in \u001b[0;36mEgises.populate_distances\u001b[0;34m(self, simplified_flag)\u001b[0m\n\u001b[1;32m    187\u001b[0m \u001b[38;5;66;03m# calculate X,Y scores for all document,u1,u2  pairs\u001b[39;00m\n\u001b[1;32m    188\u001b[0m \u001b[38;5;28mself\u001b[39m\u001b[38;5;241m.\u001b[39muser_X_df \u001b[38;5;241m=\u001b[39m \u001b[38;5;28mself\u001b[39m\u001b[38;5;241m.\u001b[39mget_user_model_X_scores(model_name\u001b[38;5;241m=\u001b[39m\u001b[38;5;124m\"\u001b[39m\u001b[38;5;124muser\u001b[39m\u001b[38;5;124m\"\u001b[39m)\n\u001b[0;32m--> 189\u001b[0m \u001b[38;5;28mself\u001b[39m\u001b[38;5;241m.\u001b[39mmodel_Y_df \u001b[38;5;241m=\u001b[39m \u001b[38;5;28;43mself\u001b[39;49m\u001b[38;5;241;43m.\u001b[39;49m\u001b[43mget_user_model_X_scores\u001b[49m\u001b[43m(\u001b[49m\u001b[43mmodel_name\u001b[49m\u001b[38;5;241;43m=\u001b[39;49m\u001b[38;5;28;43mself\u001b[39;49m\u001b[38;5;241;43m.\u001b[39;49m\u001b[43mmodel_name\u001b[49m\u001b[43m)\u001b[49m\n\u001b[1;32m    191\u001b[0m \u001b[38;5;66;03m# create map of user_X_df[(doc_id,uid1,uid2)] to user_X_df[\"final_score\"]\u001b[39;00m\n\u001b[1;32m    192\u001b[0m user_X_df \u001b[38;5;241m=\u001b[39m \u001b[38;5;28mself\u001b[39m\u001b[38;5;241m.\u001b[39muser_X_df\u001b[38;5;241m.\u001b[39mset_index([\u001b[38;5;124m\"\u001b[39m\u001b[38;5;124mdoc_id\u001b[39m\u001b[38;5;124m\"\u001b[39m, \u001b[38;5;124m\"\u001b[39m\u001b[38;5;124muid1\u001b[39m\u001b[38;5;124m\"\u001b[39m, \u001b[38;5;124m\"\u001b[39m\u001b[38;5;124muid2\u001b[39m\u001b[38;5;124m\"\u001b[39m])\n",
      "File \u001b[0;32m~/workplace/kdm_lab/repos/egises/egises/models.py:225\u001b[0m, in \u001b[0;36mEgises.get_user_model_X_scores\u001b[0;34m(self, model_name)\u001b[0m\n\u001b[1;32m    219\u001b[0m \u001b[38;5;66;03m# step 3: calculate softmax of pair_score_weight grouped by doc_id, uid1\u001b[39;00m\n\u001b[1;32m    220\u001b[0m \u001b[38;5;66;03m# softmax(w(u_ij)) = exp(w(u_ij))/sum(exp(w(u_il))) where l is all users who summarized doc i\u001b[39;00m\n\u001b[1;32m    221\u001b[0m upair_scores_df[\u001b[38;5;124m\"\u001b[39m\u001b[38;5;124mpair_score_weight_exp\u001b[39m\u001b[38;5;124m\"\u001b[39m] \u001b[38;5;241m=\u001b[39m upair_scores_df\u001b[38;5;241m.\u001b[39mapply(\n\u001b[1;32m    222\u001b[0m     \u001b[38;5;28;01mlambda\u001b[39;00m x: np\u001b[38;5;241m.\u001b[39mexp(x[\u001b[38;5;124m\"\u001b[39m\u001b[38;5;124mpair_score_weight\u001b[39m\u001b[38;5;124m\"\u001b[39m]),\n\u001b[1;32m    223\u001b[0m     axis\u001b[38;5;241m=\u001b[39m\u001b[38;5;241m1\u001b[39m)\n\u001b[1;32m    224\u001b[0m upair_scores_df[\u001b[38;5;124m\"\u001b[39m\u001b[38;5;124mpair_score_weight_exp_softmax\u001b[39m\u001b[38;5;124m\"\u001b[39m] \u001b[38;5;241m=\u001b[39m \u001b[43mupair_scores_df\u001b[49m\u001b[38;5;241;43m.\u001b[39;49m\u001b[43mgroupby\u001b[49m\u001b[43m(\u001b[49m\u001b[43m[\u001b[49m\u001b[38;5;124;43m\"\u001b[39;49m\u001b[38;5;124;43mdoc_id\u001b[39;49m\u001b[38;5;124;43m\"\u001b[39;49m\u001b[43m,\u001b[49m\u001b[43m \u001b[49m\u001b[38;5;124;43m\"\u001b[39;49m\u001b[38;5;124;43muid1\u001b[39;49m\u001b[38;5;124;43m\"\u001b[39;49m\u001b[43m]\u001b[49m\u001b[43m)\u001b[49m\u001b[43m[\u001b[49m\n\u001b[0;32m--> 225\u001b[0m \u001b[43m    \u001b[49m\u001b[38;5;124;43m\"\u001b[39;49m\u001b[38;5;124;43mpair_score_weight_exp\u001b[39;49m\u001b[38;5;124;43m\"\u001b[39;49m\u001b[43m]\u001b[49m\u001b[38;5;241;43m.\u001b[39;49m\u001b[43mtransform\u001b[49m\u001b[43m(\u001b[49m\u001b[38;5;28;43;01mlambda\u001b[39;49;00m\u001b[43m \u001b[49m\u001b[43mx\u001b[49m\u001b[43m:\u001b[49m\u001b[43m \u001b[49m\u001b[43mx\u001b[49m\u001b[43m \u001b[49m\u001b[38;5;241;43m/\u001b[39;49m\u001b[43m \u001b[49m\u001b[38;5;28;43msum\u001b[39;49m\u001b[43m(\u001b[49m\u001b[43mx\u001b[49m\u001b[43m)\u001b[49m\u001b[43m)\u001b[49m\n\u001b[1;32m    227\u001b[0m upair_scores_df[\u001b[38;5;124m\"\u001b[39m\u001b[38;5;124mfinal_score\u001b[39m\u001b[38;5;124m\"\u001b[39m] \u001b[38;5;241m=\u001b[39m upair_scores_df\u001b[38;5;241m.\u001b[39mapply(\n\u001b[1;32m    228\u001b[0m     \u001b[38;5;28;01mlambda\u001b[39;00m x: x[\u001b[38;5;124m\"\u001b[39m\u001b[38;5;124mpair_score_weight_exp_softmax\u001b[39m\u001b[38;5;124m\"\u001b[39m] \u001b[38;5;241m*\u001b[39m x[\u001b[38;5;124m\"\u001b[39m\u001b[38;5;124mscore\u001b[39m\u001b[38;5;124m\"\u001b[39m], axis\u001b[38;5;241m=\u001b[39m\u001b[38;5;241m1\u001b[39m)\n\u001b[1;32m    229\u001b[0m \u001b[38;5;66;03m# keep only doc_id, uid1, uid2, final_score\u001b[39;00m\n",
      "File \u001b[0;32m~/workplace/kdm_lab/repos/perseval_evaluation/venv/lib/python3.10/site-packages/pandas/core/groupby/generic.py:517\u001b[0m, in \u001b[0;36mSeriesGroupBy.transform\u001b[0;34m(self, func, engine, engine_kwargs, *args, **kwargs)\u001b[0m\n\u001b[1;32m    514\u001b[0m \u001b[38;5;129m@Substitution\u001b[39m(klass\u001b[38;5;241m=\u001b[39m\u001b[38;5;124m\"\u001b[39m\u001b[38;5;124mSeries\u001b[39m\u001b[38;5;124m\"\u001b[39m, example\u001b[38;5;241m=\u001b[39m__examples_series_doc)\n\u001b[1;32m    515\u001b[0m \u001b[38;5;129m@Appender\u001b[39m(_transform_template)\n\u001b[1;32m    516\u001b[0m \u001b[38;5;28;01mdef\u001b[39;00m \u001b[38;5;21mtransform\u001b[39m(\u001b[38;5;28mself\u001b[39m, func, \u001b[38;5;241m*\u001b[39margs, engine\u001b[38;5;241m=\u001b[39m\u001b[38;5;28;01mNone\u001b[39;00m, engine_kwargs\u001b[38;5;241m=\u001b[39m\u001b[38;5;28;01mNone\u001b[39;00m, \u001b[38;5;241m*\u001b[39m\u001b[38;5;241m*\u001b[39mkwargs):\n\u001b[0;32m--> 517\u001b[0m     \u001b[38;5;28;01mreturn\u001b[39;00m \u001b[38;5;28;43mself\u001b[39;49m\u001b[38;5;241;43m.\u001b[39;49m\u001b[43m_transform\u001b[49m\u001b[43m(\u001b[49m\n\u001b[1;32m    518\u001b[0m \u001b[43m        \u001b[49m\u001b[43mfunc\u001b[49m\u001b[43m,\u001b[49m\u001b[43m \u001b[49m\u001b[38;5;241;43m*\u001b[39;49m\u001b[43margs\u001b[49m\u001b[43m,\u001b[49m\u001b[43m \u001b[49m\u001b[43mengine\u001b[49m\u001b[38;5;241;43m=\u001b[39;49m\u001b[43mengine\u001b[49m\u001b[43m,\u001b[49m\u001b[43m \u001b[49m\u001b[43mengine_kwargs\u001b[49m\u001b[38;5;241;43m=\u001b[39;49m\u001b[43mengine_kwargs\u001b[49m\u001b[43m,\u001b[49m\u001b[43m \u001b[49m\u001b[38;5;241;43m*\u001b[39;49m\u001b[38;5;241;43m*\u001b[39;49m\u001b[43mkwargs\u001b[49m\n\u001b[1;32m    519\u001b[0m \u001b[43m    \u001b[49m\u001b[43m)\u001b[49m\n",
      "File \u001b[0;32m~/workplace/kdm_lab/repos/perseval_evaluation/venv/lib/python3.10/site-packages/pandas/core/groupby/groupby.py:2021\u001b[0m, in \u001b[0;36mGroupBy._transform\u001b[0;34m(self, func, engine, engine_kwargs, *args, **kwargs)\u001b[0m\n\u001b[1;32m   2018\u001b[0m     warn_alias_replacement(\u001b[38;5;28mself\u001b[39m, orig_func, func)\n\u001b[1;32m   2020\u001b[0m \u001b[38;5;28;01mif\u001b[39;00m \u001b[38;5;129;01mnot\u001b[39;00m \u001b[38;5;28misinstance\u001b[39m(func, \u001b[38;5;28mstr\u001b[39m):\n\u001b[0;32m-> 2021\u001b[0m     \u001b[38;5;28;01mreturn\u001b[39;00m \u001b[38;5;28;43mself\u001b[39;49m\u001b[38;5;241;43m.\u001b[39;49m\u001b[43m_transform_general\u001b[49m\u001b[43m(\u001b[49m\u001b[43mfunc\u001b[49m\u001b[43m,\u001b[49m\u001b[43m \u001b[49m\u001b[43mengine\u001b[49m\u001b[43m,\u001b[49m\u001b[43m \u001b[49m\u001b[43mengine_kwargs\u001b[49m\u001b[43m,\u001b[49m\u001b[43m \u001b[49m\u001b[38;5;241;43m*\u001b[39;49m\u001b[43margs\u001b[49m\u001b[43m,\u001b[49m\u001b[43m \u001b[49m\u001b[38;5;241;43m*\u001b[39;49m\u001b[38;5;241;43m*\u001b[39;49m\u001b[43mkwargs\u001b[49m\u001b[43m)\u001b[49m\n\u001b[1;32m   2023\u001b[0m \u001b[38;5;28;01melif\u001b[39;00m func \u001b[38;5;129;01mnot\u001b[39;00m \u001b[38;5;129;01min\u001b[39;00m base\u001b[38;5;241m.\u001b[39mtransform_kernel_allowlist:\n\u001b[1;32m   2024\u001b[0m     msg \u001b[38;5;241m=\u001b[39m \u001b[38;5;124mf\u001b[39m\u001b[38;5;124m\"\u001b[39m\u001b[38;5;124m'\u001b[39m\u001b[38;5;132;01m{\u001b[39;00mfunc\u001b[38;5;132;01m}\u001b[39;00m\u001b[38;5;124m'\u001b[39m\u001b[38;5;124m is not a valid function name for transform(name)\u001b[39m\u001b[38;5;124m\"\u001b[39m\n",
      "File \u001b[0;32m~/workplace/kdm_lab/repos/perseval_evaluation/venv/lib/python3.10/site-packages/pandas/core/groupby/generic.py:557\u001b[0m, in \u001b[0;36mSeriesGroupBy._transform_general\u001b[0;34m(self, func, engine, engine_kwargs, *args, **kwargs)\u001b[0m\n\u001b[1;32m    552\u001b[0m \u001b[38;5;28;01mfor\u001b[39;00m name, group \u001b[38;5;129;01min\u001b[39;00m \u001b[38;5;28mself\u001b[39m\u001b[38;5;241m.\u001b[39m_grouper\u001b[38;5;241m.\u001b[39mget_iterator(\n\u001b[1;32m    553\u001b[0m     \u001b[38;5;28mself\u001b[39m\u001b[38;5;241m.\u001b[39m_obj_with_exclusions, axis\u001b[38;5;241m=\u001b[39m\u001b[38;5;28mself\u001b[39m\u001b[38;5;241m.\u001b[39maxis\n\u001b[1;32m    554\u001b[0m ):\n\u001b[1;32m    555\u001b[0m     \u001b[38;5;66;03m# this setattr is needed for test_transform_lambda_with_datetimetz\u001b[39;00m\n\u001b[1;32m    556\u001b[0m     \u001b[38;5;28mobject\u001b[39m\u001b[38;5;241m.\u001b[39m\u001b[38;5;21m__setattr__\u001b[39m(group, \u001b[38;5;124m\"\u001b[39m\u001b[38;5;124mname\u001b[39m\u001b[38;5;124m\"\u001b[39m, name)\n\u001b[0;32m--> 557\u001b[0m     res \u001b[38;5;241m=\u001b[39m \u001b[43mfunc\u001b[49m\u001b[43m(\u001b[49m\u001b[43mgroup\u001b[49m\u001b[43m,\u001b[49m\u001b[43m \u001b[49m\u001b[38;5;241;43m*\u001b[39;49m\u001b[43margs\u001b[49m\u001b[43m,\u001b[49m\u001b[43m \u001b[49m\u001b[38;5;241;43m*\u001b[39;49m\u001b[38;5;241;43m*\u001b[39;49m\u001b[43mkwargs\u001b[49m\u001b[43m)\u001b[49m\n\u001b[1;32m    559\u001b[0m     results\u001b[38;5;241m.\u001b[39mappend(klass(res, index\u001b[38;5;241m=\u001b[39mgroup\u001b[38;5;241m.\u001b[39mindex))\n\u001b[1;32m    561\u001b[0m \u001b[38;5;66;03m# check for empty \"results\" to avoid concat ValueError\u001b[39;00m\n",
      "File \u001b[0;32m~/workplace/kdm_lab/repos/egises/egises/models.py:225\u001b[0m, in \u001b[0;36mEgises.get_user_model_X_scores.<locals>.<lambda>\u001b[0;34m(x)\u001b[0m\n\u001b[1;32m    219\u001b[0m \u001b[38;5;66;03m# step 3: calculate softmax of pair_score_weight grouped by doc_id, uid1\u001b[39;00m\n\u001b[1;32m    220\u001b[0m \u001b[38;5;66;03m# softmax(w(u_ij)) = exp(w(u_ij))/sum(exp(w(u_il))) where l is all users who summarized doc i\u001b[39;00m\n\u001b[1;32m    221\u001b[0m upair_scores_df[\u001b[38;5;124m\"\u001b[39m\u001b[38;5;124mpair_score_weight_exp\u001b[39m\u001b[38;5;124m\"\u001b[39m] \u001b[38;5;241m=\u001b[39m upair_scores_df\u001b[38;5;241m.\u001b[39mapply(\n\u001b[1;32m    222\u001b[0m     \u001b[38;5;28;01mlambda\u001b[39;00m x: np\u001b[38;5;241m.\u001b[39mexp(x[\u001b[38;5;124m\"\u001b[39m\u001b[38;5;124mpair_score_weight\u001b[39m\u001b[38;5;124m\"\u001b[39m]),\n\u001b[1;32m    223\u001b[0m     axis\u001b[38;5;241m=\u001b[39m\u001b[38;5;241m1\u001b[39m)\n\u001b[1;32m    224\u001b[0m upair_scores_df[\u001b[38;5;124m\"\u001b[39m\u001b[38;5;124mpair_score_weight_exp_softmax\u001b[39m\u001b[38;5;124m\"\u001b[39m] \u001b[38;5;241m=\u001b[39m upair_scores_df\u001b[38;5;241m.\u001b[39mgroupby([\u001b[38;5;124m\"\u001b[39m\u001b[38;5;124mdoc_id\u001b[39m\u001b[38;5;124m\"\u001b[39m, \u001b[38;5;124m\"\u001b[39m\u001b[38;5;124muid1\u001b[39m\u001b[38;5;124m\"\u001b[39m])[\n\u001b[0;32m--> 225\u001b[0m     \u001b[38;5;124m\"\u001b[39m\u001b[38;5;124mpair_score_weight_exp\u001b[39m\u001b[38;5;124m\"\u001b[39m]\u001b[38;5;241m.\u001b[39mtransform(\u001b[38;5;28;01mlambda\u001b[39;00m x: \u001b[43mx\u001b[49m\u001b[43m \u001b[49m\u001b[38;5;241;43m/\u001b[39;49m\u001b[43m \u001b[49m\u001b[38;5;28;43msum\u001b[39;49m\u001b[43m(\u001b[49m\u001b[43mx\u001b[49m\u001b[43m)\u001b[49m)\n\u001b[1;32m    227\u001b[0m upair_scores_df[\u001b[38;5;124m\"\u001b[39m\u001b[38;5;124mfinal_score\u001b[39m\u001b[38;5;124m\"\u001b[39m] \u001b[38;5;241m=\u001b[39m upair_scores_df\u001b[38;5;241m.\u001b[39mapply(\n\u001b[1;32m    228\u001b[0m     \u001b[38;5;28;01mlambda\u001b[39;00m x: x[\u001b[38;5;124m\"\u001b[39m\u001b[38;5;124mpair_score_weight_exp_softmax\u001b[39m\u001b[38;5;124m\"\u001b[39m] \u001b[38;5;241m*\u001b[39m x[\u001b[38;5;124m\"\u001b[39m\u001b[38;5;124mscore\u001b[39m\u001b[38;5;124m\"\u001b[39m], axis\u001b[38;5;241m=\u001b[39m\u001b[38;5;241m1\u001b[39m)\n\u001b[1;32m    229\u001b[0m \u001b[38;5;66;03m# keep only doc_id, uid1, uid2, final_score\u001b[39;00m\n",
      "File \u001b[0;32m~/workplace/kdm_lab/repos/perseval_evaluation/venv/lib/python3.10/site-packages/pandas/core/ops/common.py:76\u001b[0m, in \u001b[0;36m_unpack_zerodim_and_defer.<locals>.new_method\u001b[0;34m(self, other)\u001b[0m\n\u001b[1;32m     72\u001b[0m             \u001b[38;5;28;01mreturn\u001b[39;00m \u001b[38;5;28mNotImplemented\u001b[39m\n\u001b[1;32m     74\u001b[0m other \u001b[38;5;241m=\u001b[39m item_from_zerodim(other)\n\u001b[0;32m---> 76\u001b[0m \u001b[38;5;28;01mreturn\u001b[39;00m \u001b[43mmethod\u001b[49m\u001b[43m(\u001b[49m\u001b[38;5;28;43mself\u001b[39;49m\u001b[43m,\u001b[49m\u001b[43m \u001b[49m\u001b[43mother\u001b[49m\u001b[43m)\u001b[49m\n",
      "File \u001b[0;32m~/workplace/kdm_lab/repos/perseval_evaluation/venv/lib/python3.10/site-packages/pandas/core/arraylike.py:210\u001b[0m, in \u001b[0;36mOpsMixin.__truediv__\u001b[0;34m(self, other)\u001b[0m\n\u001b[1;32m    208\u001b[0m \u001b[38;5;129m@unpack_zerodim_and_defer\u001b[39m(\u001b[38;5;124m\"\u001b[39m\u001b[38;5;124m__truediv__\u001b[39m\u001b[38;5;124m\"\u001b[39m)\n\u001b[1;32m    209\u001b[0m \u001b[38;5;28;01mdef\u001b[39;00m \u001b[38;5;21m__truediv__\u001b[39m(\u001b[38;5;28mself\u001b[39m, other):\n\u001b[0;32m--> 210\u001b[0m     \u001b[38;5;28;01mreturn\u001b[39;00m \u001b[38;5;28;43mself\u001b[39;49m\u001b[38;5;241;43m.\u001b[39;49m\u001b[43m_arith_method\u001b[49m\u001b[43m(\u001b[49m\u001b[43mother\u001b[49m\u001b[43m,\u001b[49m\u001b[43m \u001b[49m\u001b[43moperator\u001b[49m\u001b[38;5;241;43m.\u001b[39;49m\u001b[43mtruediv\u001b[49m\u001b[43m)\u001b[49m\n",
      "File \u001b[0;32m~/workplace/kdm_lab/repos/perseval_evaluation/venv/lib/python3.10/site-packages/pandas/core/series.py:6115\u001b[0m, in \u001b[0;36mSeries._arith_method\u001b[0;34m(self, other, op)\u001b[0m\n\u001b[1;32m   6113\u001b[0m \u001b[38;5;28;01mdef\u001b[39;00m \u001b[38;5;21m_arith_method\u001b[39m(\u001b[38;5;28mself\u001b[39m, other, op):\n\u001b[1;32m   6114\u001b[0m     \u001b[38;5;28mself\u001b[39m, other \u001b[38;5;241m=\u001b[39m \u001b[38;5;28mself\u001b[39m\u001b[38;5;241m.\u001b[39m_align_for_op(other)\n\u001b[0;32m-> 6115\u001b[0m     \u001b[38;5;28;01mreturn\u001b[39;00m \u001b[43mbase\u001b[49m\u001b[38;5;241;43m.\u001b[39;49m\u001b[43mIndexOpsMixin\u001b[49m\u001b[38;5;241;43m.\u001b[39;49m\u001b[43m_arith_method\u001b[49m\u001b[43m(\u001b[49m\u001b[38;5;28;43mself\u001b[39;49m\u001b[43m,\u001b[49m\u001b[43m \u001b[49m\u001b[43mother\u001b[49m\u001b[43m,\u001b[49m\u001b[43m \u001b[49m\u001b[43mop\u001b[49m\u001b[43m)\u001b[49m\n",
      "File \u001b[0;32m~/workplace/kdm_lab/repos/perseval_evaluation/venv/lib/python3.10/site-packages/pandas/core/base.py:1384\u001b[0m, in \u001b[0;36mIndexOpsMixin._arith_method\u001b[0;34m(self, other, op)\u001b[0m\n\u001b[1;32m   1381\u001b[0m \u001b[38;5;28;01mwith\u001b[39;00m np\u001b[38;5;241m.\u001b[39merrstate(\u001b[38;5;28mall\u001b[39m\u001b[38;5;241m=\u001b[39m\u001b[38;5;124m\"\u001b[39m\u001b[38;5;124mignore\u001b[39m\u001b[38;5;124m\"\u001b[39m):\n\u001b[1;32m   1382\u001b[0m     result \u001b[38;5;241m=\u001b[39m ops\u001b[38;5;241m.\u001b[39marithmetic_op(lvalues, rvalues, op)\n\u001b[0;32m-> 1384\u001b[0m \u001b[38;5;28;01mreturn\u001b[39;00m \u001b[38;5;28;43mself\u001b[39;49m\u001b[38;5;241;43m.\u001b[39;49m\u001b[43m_construct_result\u001b[49m\u001b[43m(\u001b[49m\u001b[43mresult\u001b[49m\u001b[43m,\u001b[49m\u001b[43m \u001b[49m\u001b[43mname\u001b[49m\u001b[38;5;241;43m=\u001b[39;49m\u001b[43mres_name\u001b[49m\u001b[43m)\u001b[49m\n",
      "File \u001b[0;32m~/workplace/kdm_lab/repos/perseval_evaluation/venv/lib/python3.10/site-packages/pandas/core/series.py:6211\u001b[0m, in \u001b[0;36mSeries._construct_result\u001b[0;34m(self, result, name)\u001b[0m\n\u001b[1;32m   6208\u001b[0m \u001b[38;5;66;03m# TODO: result should always be ArrayLike, but this fails for some\u001b[39;00m\n\u001b[1;32m   6209\u001b[0m \u001b[38;5;66;03m#  JSONArray tests\u001b[39;00m\n\u001b[1;32m   6210\u001b[0m dtype \u001b[38;5;241m=\u001b[39m \u001b[38;5;28mgetattr\u001b[39m(result, \u001b[38;5;124m\"\u001b[39m\u001b[38;5;124mdtype\u001b[39m\u001b[38;5;124m\"\u001b[39m, \u001b[38;5;28;01mNone\u001b[39;00m)\n\u001b[0;32m-> 6211\u001b[0m out \u001b[38;5;241m=\u001b[39m \u001b[38;5;28;43mself\u001b[39;49m\u001b[38;5;241;43m.\u001b[39;49m\u001b[43m_constructor\u001b[49m\u001b[43m(\u001b[49m\u001b[43mresult\u001b[49m\u001b[43m,\u001b[49m\u001b[43m \u001b[49m\u001b[43mindex\u001b[49m\u001b[38;5;241;43m=\u001b[39;49m\u001b[38;5;28;43mself\u001b[39;49m\u001b[38;5;241;43m.\u001b[39;49m\u001b[43mindex\u001b[49m\u001b[43m,\u001b[49m\u001b[43m \u001b[49m\u001b[43mdtype\u001b[49m\u001b[38;5;241;43m=\u001b[39;49m\u001b[43mdtype\u001b[49m\u001b[43m,\u001b[49m\u001b[43m \u001b[49m\u001b[43mcopy\u001b[49m\u001b[38;5;241;43m=\u001b[39;49m\u001b[38;5;28;43;01mFalse\u001b[39;49;00m\u001b[43m)\u001b[49m\n\u001b[1;32m   6212\u001b[0m out \u001b[38;5;241m=\u001b[39m out\u001b[38;5;241m.\u001b[39m__finalize__(\u001b[38;5;28mself\u001b[39m)\n\u001b[1;32m   6214\u001b[0m \u001b[38;5;66;03m# Set the result's name after __finalize__ is called because __finalize__\u001b[39;00m\n\u001b[1;32m   6215\u001b[0m \u001b[38;5;66;03m#  would set it back to self.name\u001b[39;00m\n",
      "File \u001b[0;32m~/workplace/kdm_lab/repos/perseval_evaluation/venv/lib/python3.10/site-packages/pandas/core/series.py:587\u001b[0m, in \u001b[0;36mSeries.__init__\u001b[0;34m(self, data, index, dtype, name, copy, fastpath)\u001b[0m\n\u001b[1;32m    585\u001b[0m manager \u001b[38;5;241m=\u001b[39m _get_option(\u001b[38;5;124m\"\u001b[39m\u001b[38;5;124mmode.data_manager\u001b[39m\u001b[38;5;124m\"\u001b[39m, silent\u001b[38;5;241m=\u001b[39m\u001b[38;5;28;01mTrue\u001b[39;00m)\n\u001b[1;32m    586\u001b[0m \u001b[38;5;28;01mif\u001b[39;00m manager \u001b[38;5;241m==\u001b[39m \u001b[38;5;124m\"\u001b[39m\u001b[38;5;124mblock\u001b[39m\u001b[38;5;124m\"\u001b[39m:\n\u001b[0;32m--> 587\u001b[0m     data \u001b[38;5;241m=\u001b[39m \u001b[43mSingleBlockManager\u001b[49m\u001b[38;5;241;43m.\u001b[39;49m\u001b[43mfrom_array\u001b[49m\u001b[43m(\u001b[49m\u001b[43mdata\u001b[49m\u001b[43m,\u001b[49m\u001b[43m \u001b[49m\u001b[43mindex\u001b[49m\u001b[43m,\u001b[49m\u001b[43m \u001b[49m\u001b[43mrefs\u001b[49m\u001b[38;5;241;43m=\u001b[39;49m\u001b[43mrefs\u001b[49m\u001b[43m)\u001b[49m\n\u001b[1;32m    588\u001b[0m \u001b[38;5;28;01melif\u001b[39;00m manager \u001b[38;5;241m==\u001b[39m \u001b[38;5;124m\"\u001b[39m\u001b[38;5;124marray\u001b[39m\u001b[38;5;124m\"\u001b[39m:\n\u001b[1;32m    589\u001b[0m     data \u001b[38;5;241m=\u001b[39m SingleArrayManager\u001b[38;5;241m.\u001b[39mfrom_array(data, index)\n",
      "File \u001b[0;32m~/workplace/kdm_lab/repos/perseval_evaluation/venv/lib/python3.10/site-packages/pandas/core/internals/managers.py:1869\u001b[0m, in \u001b[0;36mSingleBlockManager.from_array\u001b[0;34m(cls, array, index, refs)\u001b[0m\n\u001b[1;32m   1862\u001b[0m \u001b[38;5;129m@classmethod\u001b[39m\n\u001b[1;32m   1863\u001b[0m \u001b[38;5;28;01mdef\u001b[39;00m \u001b[38;5;21mfrom_array\u001b[39m(\n\u001b[1;32m   1864\u001b[0m     \u001b[38;5;28mcls\u001b[39m, array: ArrayLike, index: Index, refs: BlockValuesRefs \u001b[38;5;241m|\u001b[39m \u001b[38;5;28;01mNone\u001b[39;00m \u001b[38;5;241m=\u001b[39m \u001b[38;5;28;01mNone\u001b[39;00m\n\u001b[1;32m   1865\u001b[0m ) \u001b[38;5;241m-\u001b[39m\u001b[38;5;241m>\u001b[39m SingleBlockManager:\n\u001b[1;32m   1866\u001b[0m \u001b[38;5;250m    \u001b[39m\u001b[38;5;124;03m\"\"\"\u001b[39;00m\n\u001b[1;32m   1867\u001b[0m \u001b[38;5;124;03m    Constructor for if we have an array that is not yet a Block.\u001b[39;00m\n\u001b[1;32m   1868\u001b[0m \u001b[38;5;124;03m    \"\"\"\u001b[39;00m\n\u001b[0;32m-> 1869\u001b[0m     array \u001b[38;5;241m=\u001b[39m \u001b[43mmaybe_coerce_values\u001b[49m\u001b[43m(\u001b[49m\u001b[43marray\u001b[49m\u001b[43m)\u001b[49m\n\u001b[1;32m   1870\u001b[0m     bp \u001b[38;5;241m=\u001b[39m BlockPlacement(\u001b[38;5;28mslice\u001b[39m(\u001b[38;5;241m0\u001b[39m, \u001b[38;5;28mlen\u001b[39m(index)))\n\u001b[1;32m   1871\u001b[0m     block \u001b[38;5;241m=\u001b[39m new_block(array, placement\u001b[38;5;241m=\u001b[39mbp, ndim\u001b[38;5;241m=\u001b[39m\u001b[38;5;241m1\u001b[39m, refs\u001b[38;5;241m=\u001b[39mrefs)\n",
      "File \u001b[0;32m~/workplace/kdm_lab/repos/perseval_evaluation/venv/lib/python3.10/site-packages/pandas/core/internals/blocks.py:2660\u001b[0m, in \u001b[0;36mmaybe_coerce_values\u001b[0;34m(values)\u001b[0m\n\u001b[1;32m   2657\u001b[0m     \u001b[38;5;28;01mif\u001b[39;00m \u001b[38;5;28missubclass\u001b[39m(values\u001b[38;5;241m.\u001b[39mdtype\u001b[38;5;241m.\u001b[39mtype, \u001b[38;5;28mstr\u001b[39m):\n\u001b[1;32m   2658\u001b[0m         values \u001b[38;5;241m=\u001b[39m np\u001b[38;5;241m.\u001b[39marray(values, dtype\u001b[38;5;241m=\u001b[39m\u001b[38;5;28mobject\u001b[39m)\n\u001b[0;32m-> 2660\u001b[0m \u001b[38;5;28;01mif\u001b[39;00m \u001b[38;5;28;43misinstance\u001b[39;49m\u001b[43m(\u001b[49m\u001b[43mvalues\u001b[49m\u001b[43m,\u001b[49m\u001b[43m \u001b[49m\u001b[43m(\u001b[49m\u001b[43mDatetimeArray\u001b[49m\u001b[43m,\u001b[49m\u001b[43m \u001b[49m\u001b[43mTimedeltaArray\u001b[49m\u001b[43m)\u001b[49m\u001b[43m)\u001b[49m \u001b[38;5;129;01mand\u001b[39;00m values\u001b[38;5;241m.\u001b[39mfreq \u001b[38;5;129;01mis\u001b[39;00m \u001b[38;5;129;01mnot\u001b[39;00m \u001b[38;5;28;01mNone\u001b[39;00m:\n\u001b[1;32m   2661\u001b[0m     \u001b[38;5;66;03m# freq is only stored in DatetimeIndex/TimedeltaIndex, not in Series/DataFrame\u001b[39;00m\n\u001b[1;32m   2662\u001b[0m     values \u001b[38;5;241m=\u001b[39m values\u001b[38;5;241m.\u001b[39m_with_freq(\u001b[38;5;28;01mNone\u001b[39;00m)\n\u001b[1;32m   2664\u001b[0m \u001b[38;5;28;01mreturn\u001b[39;00m values\n",
      "\u001b[0;31mKeyboardInterrupt\u001b[0m: "
     ]
    }
   ],
   "source": [
    "from evaluation_script import generate_perseval_scores\n",
    "\n",
    "scores = generate_perseval_scores(distance_measure=\"bleu\", sampling_freq= 10, max_workers = 1, simplified_flag= False,\n",
    "                    stability= False, version=\"testv2\")\n",
    "# stores scores in perseval_scores_testv2.csv, perseval_accuracy_scores_testv2.csv"
   ]
  },
  {
   "cell_type": "code",
   "execution_count": null,
   "id": "fe59467c-8414-4775-a1e9-82ec87f68b87",
   "metadata": {},
   "outputs": [],
   "source": [
    "from evaluation_script import get_borda_scores\n",
    "from utils import get_measure_scores, get_correlation_from_model_dict\n",
    "\n",
    "# calculate BK(PSE-LM-αβ, ILM-αβ)\n",
    "borda_dict = get_borda_scores(dmeasure_1=\"infoLM\", dmeasure_2= \"infoLM\", p1_measure = \"perseval\",\n",
    "                     p2_measure = \"perseval_accuracy\", m1_version=\"final\",\n",
    "                     m2_version=\"final\")\n",
    "print(borda_dict)\n"
   ]
  },
  {
   "cell_type": "code",
   "execution_count": 6,
   "id": "76ca8fc5-6838-44f2-ac09-d4a6ac66cfed",
   "metadata": {},
   "outputs": [],
   "source": [
    "import sys\n",
    "sys.path.insert(0, \"..\")\n",
    "from evaluation_script import generate_perseval_scores\n"
   ]
  },
  {
   "cell_type": "code",
   "execution_count": 3,
   "id": "0dd8f43c-31f7-45ca-ab12-e731c4a08927",
   "metadata": {},
   "outputs": [
    {
     "data": {
      "application/vnd.jupyter.widget-view+json": {
       "model_id": "7421f3a4ed7246a9b16a24885f441017",
       "version_major": 2,
       "version_minor": 0
      },
      "text/plain": [
       "  0%|          | 0/10 [00:00<?, ?it/s]"
      ]
     },
     "metadata": {},
     "output_type": "display_data"
    },
    {
     "name": "stdout",
     "output_type": "stream",
     "text": [
      "directory already exists: scores/calculate_bert_score/NAML_1\n"
     ]
    },
    {
     "data": {
      "application/vnd.jupyter.widget-view+json": {
       "model_id": "9503033a665348068a8c59db6a99f5b8",
       "version_major": 2,
       "version_minor": 0
      },
      "text/plain": [
       "Populating Distances:   0%|          | 0/3840 [00:00<?, ?it/s]"
      ]
     },
     "metadata": {},
     "output_type": "display_data"
    },
    {
     "name": "stdout",
     "output_type": "stream",
     "text": [
      "calculating for NAML_1 with perseval params PersevalParams(ADP_alpha=4.0, ADP_beta=1.0, ACP_alpha=4.0, ACP_beta=1.0, EDP_alpha=3.0, EDP_beta=1.7, epsilon=1e-07)\n",
      "sample percentage:100\n",
      "perseval_score@100%: 1.112767510448185e-08, accuracy_score: 0.7985613783783655\n",
      "model_perseval_tuple: ['NAML_1', 1.112767510448185e-08, 0.0, 0.0]\n",
      "model_accuracy_tuple: ['NAML_1', 0.7985613783783655, 0.0, 0.0]\n",
      "directory already exists: scores/calculate_bert_score/NRMS_1\n"
     ]
    },
    {
     "data": {
      "application/vnd.jupyter.widget-view+json": {
       "model_id": "dc3a2420840944ae96cfe7a671038d3d",
       "version_major": 2,
       "version_minor": 0
      },
      "text/plain": [
       "Populating Distances:   0%|          | 0/3840 [00:00<?, ?it/s]"
      ]
     },
     "metadata": {},
     "output_type": "display_data"
    },
    {
     "name": "stdout",
     "output_type": "stream",
     "text": [
      "calculating for NRMS_1 with perseval params PersevalParams(ADP_alpha=4.0, ADP_beta=1.0, ACP_alpha=4.0, ACP_beta=1.0, EDP_alpha=3.0, EDP_beta=1.7, epsilon=1e-07)\n",
      "sample percentage:100\n",
      "perseval_score@100%: 0.0, accuracy_score: 0.7999142892963002\n",
      "model_perseval_tuple: ['NRMS_1', 0.0, 0.0, 0.0]\n",
      "model_accuracy_tuple: ['NRMS_1', 0.7999142892963002, 0.0, 0.0]\n",
      "directory already exists: scores/calculate_bert_score/NRMS_2\n"
     ]
    },
    {
     "data": {
      "application/vnd.jupyter.widget-view+json": {
       "model_id": "5b4f39f9f631406094c48d5cd96186b7",
       "version_major": 2,
       "version_minor": 0
      },
      "text/plain": [
       "Populating Distances:   0%|          | 0/3840 [00:00<?, ?it/s]"
      ]
     },
     "metadata": {},
     "output_type": "display_data"
    },
    {
     "name": "stdout",
     "output_type": "stream",
     "text": [
      "calculating for NRMS_2 with perseval params PersevalParams(ADP_alpha=4.0, ADP_beta=1.0, ACP_alpha=4.0, ACP_beta=1.0, EDP_alpha=3.0, EDP_beta=1.7, epsilon=1e-07)\n",
      "sample percentage:100\n",
      "perseval_score@100%: 0.0, accuracy_score: 0.8010937194918677\n",
      "model_perseval_tuple: ['NRMS_2', 0.0, 0.0, 0.0]\n",
      "model_accuracy_tuple: ['NRMS_2', 0.8010937194918677, 0.0, 0.0]\n",
      "directory already exists: scores/calculate_bert_score/EBNR_1\n"
     ]
    },
    {
     "data": {
      "application/vnd.jupyter.widget-view+json": {
       "model_id": "2f268f75144a4e2883dd1408b63f5544",
       "version_major": 2,
       "version_minor": 0
      },
      "text/plain": [
       "Populating Distances:   0%|          | 0/3840 [00:00<?, ?it/s]"
      ]
     },
     "metadata": {},
     "output_type": "display_data"
    },
    {
     "name": "stdout",
     "output_type": "stream",
     "text": [
      "calculating for EBNR_1 with perseval params PersevalParams(ADP_alpha=4.0, ADP_beta=1.0, ACP_alpha=4.0, ACP_beta=1.0, EDP_alpha=3.0, EDP_beta=1.7, epsilon=1e-07)\n",
      "sample percentage:100\n",
      "perseval_score@100%: 0.0, accuracy_score: 0.8005875805649323\n",
      "model_perseval_tuple: ['EBNR_1', 0.0, 0.0, 0.0]\n",
      "model_accuracy_tuple: ['EBNR_1', 0.8005875805649323, 0.0, 0.0]\n",
      "directory already exists: scores/calculate_bert_score/EBNR_2\n"
     ]
    },
    {
     "data": {
      "application/vnd.jupyter.widget-view+json": {
       "model_id": "f809d9c1ed6f42578f461cd3a84f6e60",
       "version_major": 2,
       "version_minor": 0
      },
      "text/plain": [
       "Populating Distances:   0%|          | 0/3840 [00:00<?, ?it/s]"
      ]
     },
     "metadata": {},
     "output_type": "display_data"
    },
    {
     "name": "stdout",
     "output_type": "stream",
     "text": [
      "calculating for EBNR_2 with perseval params PersevalParams(ADP_alpha=4.0, ADP_beta=1.0, ACP_alpha=4.0, ACP_beta=1.0, EDP_alpha=3.0, EDP_beta=1.7, epsilon=1e-07)\n",
      "sample percentage:100\n",
      "perseval_score@100%: 0.0, accuracy_score: 0.8002636665118938\n",
      "model_perseval_tuple: ['EBNR_2', 0.0, 0.0, 0.0]\n",
      "model_accuracy_tuple: ['EBNR_2', 0.8002636665118938, 0.0, 0.0]\n",
      "directory already exists: scores/calculate_bert_score/big_bird\n"
     ]
    },
    {
     "data": {
      "application/vnd.jupyter.widget-view+json": {
       "model_id": "a5c1c076083c4e8a9d0c4634e5559f7a",
       "version_major": 2,
       "version_minor": 0
      },
      "text/plain": [
       "Populating Distances:   0%|          | 0/3840 [00:00<?, ?it/s]"
      ]
     },
     "metadata": {},
     "output_type": "display_data"
    },
    {
     "name": "stdout",
     "output_type": "stream",
     "text": [
      "calculating for big_bird with perseval params PersevalParams(ADP_alpha=4.0, ADP_beta=1.0, ACP_alpha=4.0, ACP_beta=1.0, EDP_alpha=3.0, EDP_beta=1.7, epsilon=1e-07)\n",
      "sample percentage:100\n",
      "perseval_score@100%: 4.139545147892974e-08, accuracy_score: 0.7972502480424334\n",
      "model_perseval_tuple: ['big_bird', 4.139545147892974e-08, 0.0, 0.0]\n",
      "model_accuracy_tuple: ['big_bird', 0.7972502480424334, 0.0, 0.0]\n",
      "directory already exists: scores/calculate_bert_score/brio\n"
     ]
    },
    {
     "data": {
      "application/vnd.jupyter.widget-view+json": {
       "model_id": "2e8609100ece4ebc84454df47375d93d",
       "version_major": 2,
       "version_minor": 0
      },
      "text/plain": [
       "Populating Distances:   0%|          | 0/3840 [00:00<?, ?it/s]"
      ]
     },
     "metadata": {},
     "output_type": "display_data"
    },
    {
     "name": "stdout",
     "output_type": "stream",
     "text": [
      "calculating for brio with perseval params PersevalParams(ADP_alpha=4.0, ADP_beta=1.0, ACP_alpha=4.0, ACP_beta=1.0, EDP_alpha=3.0, EDP_beta=1.7, epsilon=1e-07)\n",
      "sample percentage:100\n",
      "perseval_score@100%: 0.0, accuracy_score: 0.8131966272494296\n",
      "model_perseval_tuple: ['brio', 0.0, 0.0, 0.0]\n",
      "model_accuracy_tuple: ['brio', 0.8131966272494296, 0.0, 0.0]\n",
      "directory already exists: scores/calculate_bert_score/prophetnet\n"
     ]
    },
    {
     "data": {
      "application/vnd.jupyter.widget-view+json": {
       "model_id": "9a5fe47c60f64075ad59b06ce9ea7fd4",
       "version_major": 2,
       "version_minor": 0
      },
      "text/plain": [
       "Populating Distances:   0%|          | 0/3840 [00:00<?, ?it/s]"
      ]
     },
     "metadata": {},
     "output_type": "display_data"
    },
    {
     "name": "stdout",
     "output_type": "stream",
     "text": [
      "calculating for prophetnet with perseval params PersevalParams(ADP_alpha=4.0, ADP_beta=1.0, ACP_alpha=4.0, ACP_beta=1.0, EDP_alpha=3.0, EDP_beta=1.7, epsilon=1e-07)\n",
      "sample percentage:100\n",
      "perseval_score@100%: 4.998158047288218e-18, accuracy_score: 0.799723260167701\n",
      "model_perseval_tuple: ['prophetnet', 4.998158047288218e-18, 0.0, 0.0]\n",
      "model_accuracy_tuple: ['prophetnet', 0.799723260167701, 0.0, 0.0]\n",
      "directory already exists: scores/calculate_bert_score/cls\n"
     ]
    },
    {
     "data": {
      "application/vnd.jupyter.widget-view+json": {
       "model_id": "9ebd1672e2b841e18f81d89399b80b16",
       "version_major": 2,
       "version_minor": 0
      },
      "text/plain": [
       "Populating Distances:   0%|          | 0/3840 [00:00<?, ?it/s]"
      ]
     },
     "metadata": {},
     "output_type": "display_data"
    },
    {
     "name": "stdout",
     "output_type": "stream",
     "text": [
      "calculating for cls with perseval params PersevalParams(ADP_alpha=4.0, ADP_beta=1.0, ACP_alpha=4.0, ACP_beta=1.0, EDP_alpha=3.0, EDP_beta=1.7, epsilon=1e-07)\n",
      "sample percentage:100\n",
      "perseval_score@100%: 0.0, accuracy_score: 0.8204367496880438\n",
      "model_perseval_tuple: ['cls', 0.0, 0.0, 0.0]\n",
      "model_accuracy_tuple: ['cls', 0.8204367496880438, 0.0, 0.0]\n",
      "directory already exists: scores/calculate_bert_score/t5_base\n"
     ]
    },
    {
     "data": {
      "application/vnd.jupyter.widget-view+json": {
       "model_id": "b02ea587510e404585e35f3c0331e33a",
       "version_major": 2,
       "version_minor": 0
      },
      "text/plain": [
       "Populating Distances:   0%|          | 0/3840 [00:00<?, ?it/s]"
      ]
     },
     "metadata": {},
     "output_type": "display_data"
    },
    {
     "name": "stdout",
     "output_type": "stream",
     "text": [
      "calculating for t5_base with perseval params PersevalParams(ADP_alpha=4.0, ADP_beta=1.0, ACP_alpha=4.0, ACP_beta=1.0, EDP_alpha=3.0, EDP_beta=1.7, epsilon=1e-07)\n",
      "sample percentage:100\n",
      "perseval_score@100%: 0.0, accuracy_score: 0.7972838155271139\n",
      "model_perseval_tuple: ['t5_base', 0.0, 0.0, 0.0]\n",
      "model_accuracy_tuple: ['t5_base', 0.7972838155271139, 0.0, 0.0]\n"
     ]
    }
   ],
   "source": [
    "accuracy_df, perseval_df = generate_perseval_scores(distance_measure=\"bert_score\", sampling_freq= 10, max_workers= 1,\n",
    "                             simplified_flag= False, stability= False, EDP_beta= 1.7,\n",
    "                             version=\"experiment_notebooks\n",
    "/debug_experiments.ipynb\")\n",
    "# print(f\"accuracy_df:{accuracy_df}\")\n",
    "# print(f\"perseval_df: {perseval_df}\")\n"
   ]
  },
  {
   "cell_type": "code",
   "execution_count": 4,
   "id": "5ae9c5e4-89ea-44e5-9c0a-bc845e67cf9e",
   "metadata": {},
   "outputs": [
    {
     "data": {
      "text/html": [
       "<div>\n",
       "<style scoped>\n",
       "    .dataframe tbody tr th:only-of-type {\n",
       "        vertical-align: middle;\n",
       "    }\n",
       "\n",
       "    .dataframe tbody tr th {\n",
       "        vertical-align: top;\n",
       "    }\n",
       "\n",
       "    .dataframe thead th {\n",
       "        text-align: right;\n",
       "    }\n",
       "</style>\n",
       "<table border=\"1\" class=\"dataframe\">\n",
       "  <thead>\n",
       "    <tr style=\"text-align: right;\">\n",
       "      <th></th>\n",
       "      <th>models</th>\n",
       "      <th>100</th>\n",
       "      <th>bias</th>\n",
       "      <th>variance</th>\n",
       "    </tr>\n",
       "  </thead>\n",
       "  <tbody>\n",
       "    <tr>\n",
       "      <th>0</th>\n",
       "      <td>NAML_1</td>\n",
       "      <td>0.798561</td>\n",
       "      <td>0.0</td>\n",
       "      <td>0.0</td>\n",
       "    </tr>\n",
       "    <tr>\n",
       "      <th>1</th>\n",
       "      <td>NRMS_1</td>\n",
       "      <td>0.799914</td>\n",
       "      <td>0.0</td>\n",
       "      <td>0.0</td>\n",
       "    </tr>\n",
       "    <tr>\n",
       "      <th>2</th>\n",
       "      <td>NRMS_2</td>\n",
       "      <td>0.801094</td>\n",
       "      <td>0.0</td>\n",
       "      <td>0.0</td>\n",
       "    </tr>\n",
       "    <tr>\n",
       "      <th>3</th>\n",
       "      <td>EBNR_1</td>\n",
       "      <td>0.800588</td>\n",
       "      <td>0.0</td>\n",
       "      <td>0.0</td>\n",
       "    </tr>\n",
       "    <tr>\n",
       "      <th>4</th>\n",
       "      <td>EBNR_2</td>\n",
       "      <td>0.800264</td>\n",
       "      <td>0.0</td>\n",
       "      <td>0.0</td>\n",
       "    </tr>\n",
       "    <tr>\n",
       "      <th>5</th>\n",
       "      <td>big_bird</td>\n",
       "      <td>0.797250</td>\n",
       "      <td>0.0</td>\n",
       "      <td>0.0</td>\n",
       "    </tr>\n",
       "    <tr>\n",
       "      <th>6</th>\n",
       "      <td>brio</td>\n",
       "      <td>0.813197</td>\n",
       "      <td>0.0</td>\n",
       "      <td>0.0</td>\n",
       "    </tr>\n",
       "    <tr>\n",
       "      <th>7</th>\n",
       "      <td>prophetnet</td>\n",
       "      <td>0.799723</td>\n",
       "      <td>0.0</td>\n",
       "      <td>0.0</td>\n",
       "    </tr>\n",
       "    <tr>\n",
       "      <th>8</th>\n",
       "      <td>cls</td>\n",
       "      <td>0.820437</td>\n",
       "      <td>0.0</td>\n",
       "      <td>0.0</td>\n",
       "    </tr>\n",
       "    <tr>\n",
       "      <th>9</th>\n",
       "      <td>t5_base</td>\n",
       "      <td>0.797284</td>\n",
       "      <td>0.0</td>\n",
       "      <td>0.0</td>\n",
       "    </tr>\n",
       "  </tbody>\n",
       "</table>\n",
       "</div>"
      ],
      "text/plain": [
       "       models       100  bias  variance\n",
       "0      NAML_1  0.798561   0.0       0.0\n",
       "1      NRMS_1  0.799914   0.0       0.0\n",
       "2      NRMS_2  0.801094   0.0       0.0\n",
       "3      EBNR_1  0.800588   0.0       0.0\n",
       "4      EBNR_2  0.800264   0.0       0.0\n",
       "5    big_bird  0.797250   0.0       0.0\n",
       "6        brio  0.813197   0.0       0.0\n",
       "7  prophetnet  0.799723   0.0       0.0\n",
       "8         cls  0.820437   0.0       0.0\n",
       "9     t5_base  0.797284   0.0       0.0"
      ]
     },
     "execution_count": 4,
     "metadata": {},
     "output_type": "execute_result"
    }
   ],
   "source": [
    "accuracy_df"
   ]
  },
  {
   "cell_type": "code",
   "execution_count": 5,
   "id": "a3211faa-80ab-445c-a0cc-f0ac646d252a",
   "metadata": {},
   "outputs": [
    {
     "data": {
      "text/html": [
       "<div>\n",
       "<style scoped>\n",
       "    .dataframe tbody tr th:only-of-type {\n",
       "        vertical-align: middle;\n",
       "    }\n",
       "\n",
       "    .dataframe tbody tr th {\n",
       "        vertical-align: top;\n",
       "    }\n",
       "\n",
       "    .dataframe thead th {\n",
       "        text-align: right;\n",
       "    }\n",
       "</style>\n",
       "<table border=\"1\" class=\"dataframe\">\n",
       "  <thead>\n",
       "    <tr style=\"text-align: right;\">\n",
       "      <th></th>\n",
       "      <th>models</th>\n",
       "      <th>100</th>\n",
       "      <th>bias</th>\n",
       "      <th>variance</th>\n",
       "    </tr>\n",
       "  </thead>\n",
       "  <tbody>\n",
       "    <tr>\n",
       "      <th>0</th>\n",
       "      <td>NAML_1</td>\n",
       "      <td>1.112768e-08</td>\n",
       "      <td>0.0</td>\n",
       "      <td>0.0</td>\n",
       "    </tr>\n",
       "    <tr>\n",
       "      <th>1</th>\n",
       "      <td>NRMS_1</td>\n",
       "      <td>0.000000e+00</td>\n",
       "      <td>0.0</td>\n",
       "      <td>0.0</td>\n",
       "    </tr>\n",
       "    <tr>\n",
       "      <th>2</th>\n",
       "      <td>NRMS_2</td>\n",
       "      <td>0.000000e+00</td>\n",
       "      <td>0.0</td>\n",
       "      <td>0.0</td>\n",
       "    </tr>\n",
       "    <tr>\n",
       "      <th>3</th>\n",
       "      <td>EBNR_1</td>\n",
       "      <td>0.000000e+00</td>\n",
       "      <td>0.0</td>\n",
       "      <td>0.0</td>\n",
       "    </tr>\n",
       "    <tr>\n",
       "      <th>4</th>\n",
       "      <td>EBNR_2</td>\n",
       "      <td>0.000000e+00</td>\n",
       "      <td>0.0</td>\n",
       "      <td>0.0</td>\n",
       "    </tr>\n",
       "    <tr>\n",
       "      <th>5</th>\n",
       "      <td>big_bird</td>\n",
       "      <td>4.139545e-08</td>\n",
       "      <td>0.0</td>\n",
       "      <td>0.0</td>\n",
       "    </tr>\n",
       "    <tr>\n",
       "      <th>6</th>\n",
       "      <td>brio</td>\n",
       "      <td>0.000000e+00</td>\n",
       "      <td>0.0</td>\n",
       "      <td>0.0</td>\n",
       "    </tr>\n",
       "    <tr>\n",
       "      <th>7</th>\n",
       "      <td>prophetnet</td>\n",
       "      <td>4.998158e-18</td>\n",
       "      <td>0.0</td>\n",
       "      <td>0.0</td>\n",
       "    </tr>\n",
       "    <tr>\n",
       "      <th>8</th>\n",
       "      <td>cls</td>\n",
       "      <td>0.000000e+00</td>\n",
       "      <td>0.0</td>\n",
       "      <td>0.0</td>\n",
       "    </tr>\n",
       "    <tr>\n",
       "      <th>9</th>\n",
       "      <td>t5_base</td>\n",
       "      <td>0.000000e+00</td>\n",
       "      <td>0.0</td>\n",
       "      <td>0.0</td>\n",
       "    </tr>\n",
       "  </tbody>\n",
       "</table>\n",
       "</div>"
      ],
      "text/plain": [
       "       models           100  bias  variance\n",
       "0      NAML_1  1.112768e-08   0.0       0.0\n",
       "1      NRMS_1  0.000000e+00   0.0       0.0\n",
       "2      NRMS_2  0.000000e+00   0.0       0.0\n",
       "3      EBNR_1  0.000000e+00   0.0       0.0\n",
       "4      EBNR_2  0.000000e+00   0.0       0.0\n",
       "5    big_bird  4.139545e-08   0.0       0.0\n",
       "6        brio  0.000000e+00   0.0       0.0\n",
       "7  prophetnet  4.998158e-18   0.0       0.0\n",
       "8         cls  0.000000e+00   0.0       0.0\n",
       "9     t5_base  0.000000e+00   0.0       0.0"
      ]
     },
     "execution_count": 5,
     "metadata": {},
     "output_type": "execute_result"
    }
   ],
   "source": [
    "perseval_df"
   ]
  }
 ],
 "metadata": {
  "kernelspec": {
   "display_name": "Python 3 (ipykernel)",
   "language": "python",
   "name": "python3"
  },
  "language_info": {
   "codemirror_mode": {
    "name": "ipython",
    "version": 3
   },
   "file_extension": ".py",
   "mimetype": "text/x-python",
   "name": "python",
   "nbconvert_exporter": "python",
   "pygments_lexer": "ipython3",
   "version": "3.10.12"
  }
 },
 "nbformat": 4,
 "nbformat_minor": 5
}
