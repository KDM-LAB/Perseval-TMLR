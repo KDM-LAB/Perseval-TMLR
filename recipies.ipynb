{
 "cells": [
  {
   "cell_type": "code",
   "execution_count": null,
   "id": "bb8d4634-e2fe-4e0f-a35b-55a1be0b39f4",
   "metadata": {},
   "outputs": [],
   "source": [
    "# Calculate egises-X\n",
    "from evaluation_script import generate_scores\n",
    "\n",
    "scores = generate_scores(distance_measure=\"bleu\", sampling_freq= 10, max_workers = 1, simplified_flag= False,\n",
    "                    stability= False, version=\"testv2\")\n",
    "# stores scores in egises_scores_testv2.csv, accuracy_scores_testv2.csv\n"
   ]
  },
  {
   "cell_type": "markdown",
   "id": "66745a97-3f32-47d8-9dfe-229441f751c0",
   "metadata": {},
   "source": [
    "## calculate perseval scores"
   ]
  },
  {
   "cell_type": "code",
   "execution_count": null,
   "id": "30c5b0a9-1936-453c-b0db-2945bf7a0e0b",
   "metadata": {},
   "outputs": [],
   "source": [
    "from evaluation_script import generate_perseval_scores\n",
    "\n",
    "scores = generate_perseval_scores(distance_measure=\"bleu\", sampling_freq= 10, max_workers = 1, simplified_flag= False,\n",
    "                    stability= False, version=\"testv2\")\n",
    "# stores scores in perseval_scores_testv2.csv, perseval_accuracy_scores_testv2.csv"
   ]
  },
  {
   "cell_type": "markdown",
   "id": "a655f13a-11a5-4105-aa74-4764743f96d1",
   "metadata": {},
   "source": [
    "## Calculate borda consensus"
   ]
  },
  {
   "cell_type": "code",
   "execution_count": 7,
   "id": "fe59467c-8414-4775-a1e9-82ec87f68b87",
   "metadata": {},
   "outputs": [
    {
     "name": "stdout",
     "output_type": "stream",
     "text": [
      "{'NRMS_2': 8, 'EBNR_2': 9, 'cls': 10, 'brio': 10, 'prophetnet': 10, 't5_base': 11, 'NRMS_1': 11, 'EBNR_1': 12, 'big_bird': 14, 'NAML_1': 15}\n"
     ]
    }
   ],
   "source": [
    "from evaluation_script import get_borda_scores\n",
    "from utils import get_measure_scores, get_correlation_from_model_dict\n",
    "\n",
    "# calculate BK(PSE-LM-αβ, ILM-αβ)\n",
    "borda_dict = get_borda_scores(dmeasure_1=\"infoLM\", dmeasure_2= \"infoLM\", p1_measure = \"perseval\",\n",
    "                     p2_measure = \"perseval_accuracy\", m1_version=\"final\",\n",
    "                     m2_version=\"final\")\n",
    "print(borda_dict)\n"
   ]
  },
  {
   "cell_type": "markdown",
   "id": "3d6c2838-84ed-4003-a19f-a2260444239b",
   "metadata": {},
   "source": [
    "## Calculate correlation between hj and BK"
   ]
  },
  {
   "cell_type": "code",
   "execution_count": 8,
   "id": "a6ed47f0-19f5-41a2-b6ef-7257ebf15d11",
   "metadata": {},
   "outputs": [
    {
     "name": "stdout",
     "output_type": "stream",
     "text": [
      "{'NAML_1': 0.3155, 'NRMS_1': 0.3645, 'NRMS_2': 0.3268, 'EBNR_1': 0.3173, 'EBNR_2': 0.33, 'big_bird': 0.3509, 'brio': 0.4519, 'prophetnet': 0.416, 'cls': 0.4283, 't5_base': 0.4115}\n",
      "{'pearson': -0.30636, 'kendall': -0.30265, 'spearman': -0.34466}\n"
     ]
    }
   ],
   "source": [
    "# get hj- bk correlation\n",
    "hj_dict = get_measure_scores(measure= \"hj\", p_measure= \"perseval\", version= \"final\")\n",
    "print(hj_dict)\n",
    "\n",
    "corr = get_correlation_from_model_dict(hj_dict, borda_dict)\n",
    "print(corr)"
   ]
  },
  {
   "cell_type": "code",
   "execution_count": null,
   "id": "76ca8fc5-6838-44f2-ac09-d4a6ac66cfed",
   "metadata": {},
   "outputs": [],
   "source": []
  }
 ],
 "metadata": {
  "kernelspec": {
   "display_name": "Python 3 (ipykernel)",
   "language": "python",
   "name": "python3"
  },
  "language_info": {
   "codemirror_mode": {
    "name": "ipython",
    "version": 3
   },
   "file_extension": ".py",
   "mimetype": "text/x-python",
   "name": "python",
   "nbconvert_exporter": "python",
   "pygments_lexer": "ipython3",
   "version": "3.10.12"
  }
 },
 "nbformat": 4,
 "nbformat_minor": 5
}
